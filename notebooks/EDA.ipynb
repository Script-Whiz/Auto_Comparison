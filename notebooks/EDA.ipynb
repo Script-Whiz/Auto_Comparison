{
 "cells": [
  {
   "cell_type": "markdown",
   "metadata": {},
   "source": [
    "# Auto Sales Comparison"
   ]
  },
  {
   "cell_type": "markdown",
   "metadata": {},
   "source": [
    "## This project seeks to find the answers to these questions:\n",
    "- What are average car sales prices for each car type?\n",
    "- What are overall total sales for each car type?\n",
    "- Is there a correlation between number of cylinders and the condition of car?\n",
    "- Is there a correlation between odometer reading, and days on market?\n",
    "- What are the average prices, by color?\n",
    "- What are average car prices, by year?\n",
    "\n",
    "## I will also plot some of these answer on to interactive graphs."
   ]
  },
  {
   "cell_type": "markdown",
   "metadata": {},
   "source": [
    "<h2 style=\"color:red;\">Import libraries</h2>"
   ]
  },
  {
   "cell_type": "code",
   "execution_count": 1,
   "metadata": {},
   "outputs": [],
   "source": [
    "import pandas as pd\n",
    "from pandas.api.types import CategoricalDtype\n",
    "\n",
    "import streamlit as st\n",
    "\n",
    "import plotly.express as px\n",
    "import plotly.graph_objects as go\n",
    "import plotly.figure_factory as ff\n",
    "\n",
    "import altair as alt\n",
    "\n",
    "import numpy as np\n",
    "\n",
    "from scipy import stats\n",
    "\n",
    "from IPython.display import Image"
   ]
  },
  {
   "cell_type": "code",
   "execution_count": 2,
   "metadata": {},
   "outputs": [
    {
     "data": {
      "text/html": [
       "<img src=\"../cars_balloons.jpeg\" width=\"300\" height=\"300\"/>"
      ],
      "text/plain": [
       "<IPython.core.display.Image object>"
      ]
     },
     "execution_count": 2,
     "metadata": {},
     "output_type": "execute_result"
    }
   ],
   "source": [
    "Image(url='../cars_balloons.jpeg', width=300, height=300) "
   ]
  },
  {
   "cell_type": "code",
   "execution_count": 3,
   "metadata": {},
   "outputs": [],
   "source": [
    "autos = pd.read_csv(\"../vehicles_us.csv\")"
   ]
  },
  {
   "cell_type": "markdown",
   "metadata": {},
   "source": [
    "<h2 style=\"color:red;\">Inspect the Data</h2>"
   ]
  },
  {
   "cell_type": "code",
   "execution_count": 4,
   "metadata": {},
   "outputs": [
    {
     "data": {
      "text/html": [
       "<div>\n",
       "<style scoped>\n",
       "    .dataframe tbody tr th:only-of-type {\n",
       "        vertical-align: middle;\n",
       "    }\n",
       "\n",
       "    .dataframe tbody tr th {\n",
       "        vertical-align: top;\n",
       "    }\n",
       "\n",
       "    .dataframe thead th {\n",
       "        text-align: right;\n",
       "    }\n",
       "</style>\n",
       "<table border=\"1\" class=\"dataframe\">\n",
       "  <thead>\n",
       "    <tr style=\"text-align: right;\">\n",
       "      <th></th>\n",
       "      <th>price</th>\n",
       "      <th>model_year</th>\n",
       "      <th>model</th>\n",
       "      <th>condition</th>\n",
       "      <th>cylinders</th>\n",
       "      <th>fuel</th>\n",
       "      <th>odometer</th>\n",
       "      <th>transmission</th>\n",
       "      <th>type</th>\n",
       "      <th>paint_color</th>\n",
       "      <th>is_4wd</th>\n",
       "      <th>date_posted</th>\n",
       "      <th>days_listed</th>\n",
       "    </tr>\n",
       "  </thead>\n",
       "  <tbody>\n",
       "    <tr>\n",
       "      <th>0</th>\n",
       "      <td>9400</td>\n",
       "      <td>2011.0</td>\n",
       "      <td>bmw x5</td>\n",
       "      <td>good</td>\n",
       "      <td>6.0</td>\n",
       "      <td>gas</td>\n",
       "      <td>145000.0</td>\n",
       "      <td>automatic</td>\n",
       "      <td>SUV</td>\n",
       "      <td>NaN</td>\n",
       "      <td>1.0</td>\n",
       "      <td>2018-06-23</td>\n",
       "      <td>19</td>\n",
       "    </tr>\n",
       "    <tr>\n",
       "      <th>1</th>\n",
       "      <td>25500</td>\n",
       "      <td>NaN</td>\n",
       "      <td>ford f-150</td>\n",
       "      <td>good</td>\n",
       "      <td>6.0</td>\n",
       "      <td>gas</td>\n",
       "      <td>88705.0</td>\n",
       "      <td>automatic</td>\n",
       "      <td>pickup</td>\n",
       "      <td>white</td>\n",
       "      <td>1.0</td>\n",
       "      <td>2018-10-19</td>\n",
       "      <td>50</td>\n",
       "    </tr>\n",
       "    <tr>\n",
       "      <th>2</th>\n",
       "      <td>5500</td>\n",
       "      <td>2013.0</td>\n",
       "      <td>hyundai sonata</td>\n",
       "      <td>like new</td>\n",
       "      <td>4.0</td>\n",
       "      <td>gas</td>\n",
       "      <td>110000.0</td>\n",
       "      <td>automatic</td>\n",
       "      <td>sedan</td>\n",
       "      <td>red</td>\n",
       "      <td>NaN</td>\n",
       "      <td>2019-02-07</td>\n",
       "      <td>79</td>\n",
       "    </tr>\n",
       "    <tr>\n",
       "      <th>3</th>\n",
       "      <td>1500</td>\n",
       "      <td>2003.0</td>\n",
       "      <td>ford f-150</td>\n",
       "      <td>fair</td>\n",
       "      <td>8.0</td>\n",
       "      <td>gas</td>\n",
       "      <td>NaN</td>\n",
       "      <td>automatic</td>\n",
       "      <td>pickup</td>\n",
       "      <td>NaN</td>\n",
       "      <td>NaN</td>\n",
       "      <td>2019-03-22</td>\n",
       "      <td>9</td>\n",
       "    </tr>\n",
       "    <tr>\n",
       "      <th>4</th>\n",
       "      <td>14900</td>\n",
       "      <td>2017.0</td>\n",
       "      <td>chrysler 200</td>\n",
       "      <td>excellent</td>\n",
       "      <td>4.0</td>\n",
       "      <td>gas</td>\n",
       "      <td>80903.0</td>\n",
       "      <td>automatic</td>\n",
       "      <td>sedan</td>\n",
       "      <td>black</td>\n",
       "      <td>NaN</td>\n",
       "      <td>2019-04-02</td>\n",
       "      <td>28</td>\n",
       "    </tr>\n",
       "  </tbody>\n",
       "</table>\n",
       "</div>"
      ],
      "text/plain": [
       "   price  model_year           model  condition  cylinders fuel  odometer  \\\n",
       "0   9400      2011.0          bmw x5       good        6.0  gas  145000.0   \n",
       "1  25500         NaN      ford f-150       good        6.0  gas   88705.0   \n",
       "2   5500      2013.0  hyundai sonata   like new        4.0  gas  110000.0   \n",
       "3   1500      2003.0      ford f-150       fair        8.0  gas       NaN   \n",
       "4  14900      2017.0    chrysler 200  excellent        4.0  gas   80903.0   \n",
       "\n",
       "  transmission    type paint_color  is_4wd date_posted  days_listed  \n",
       "0    automatic     SUV         NaN     1.0  2018-06-23           19  \n",
       "1    automatic  pickup       white     1.0  2018-10-19           50  \n",
       "2    automatic   sedan         red     NaN  2019-02-07           79  \n",
       "3    automatic  pickup         NaN     NaN  2019-03-22            9  \n",
       "4    automatic   sedan       black     NaN  2019-04-02           28  "
      ]
     },
     "metadata": {},
     "output_type": "display_data"
    }
   ],
   "source": [
    "display(autos.head(5))"
   ]
  },
  {
   "cell_type": "markdown",
   "metadata": {},
   "source": [
    "#### Initial thoughts on the dataset:\n",
    "- A few of the column names will need to be renamed to shorter names.\n",
    "- A few of the column data types will need to be changed, from float to int."
   ]
  },
  {
   "cell_type": "code",
   "execution_count": 5,
   "metadata": {},
   "outputs": [
    {
     "data": {
      "text/plain": [
       "(51525, 13)"
      ]
     },
     "execution_count": 5,
     "metadata": {},
     "output_type": "execute_result"
    }
   ],
   "source": [
    "autos.shape"
   ]
  },
  {
   "cell_type": "markdown",
   "metadata": {},
   "source": [
    "#### There are 51,525 rows, and 13 columns."
   ]
  },
  {
   "cell_type": "code",
   "execution_count": 6,
   "metadata": {},
   "outputs": [
    {
     "name": "stdout",
     "output_type": "stream",
     "text": [
      "<class 'pandas.core.frame.DataFrame'>\n",
      "RangeIndex: 51525 entries, 0 to 51524\n",
      "Data columns (total 13 columns):\n",
      " #   Column        Non-Null Count  Dtype  \n",
      "---  ------        --------------  -----  \n",
      " 0   price         51525 non-null  int64  \n",
      " 1   model_year    47906 non-null  float64\n",
      " 2   model         51525 non-null  object \n",
      " 3   condition     51525 non-null  object \n",
      " 4   cylinders     46265 non-null  float64\n",
      " 5   fuel          51525 non-null  object \n",
      " 6   odometer      43633 non-null  float64\n",
      " 7   transmission  51525 non-null  object \n",
      " 8   type          51525 non-null  object \n",
      " 9   paint_color   42258 non-null  object \n",
      " 10  is_4wd        25572 non-null  float64\n",
      " 11  date_posted   51525 non-null  object \n",
      " 12  days_listed   51525 non-null  int64  \n",
      "dtypes: float64(4), int64(2), object(7)\n",
      "memory usage: 5.1+ MB\n"
     ]
    }
   ],
   "source": [
    "autos.info()"
   ]
  },
  {
   "cell_type": "markdown",
   "metadata": {},
   "source": [
    "#### These columns have missing data:\n",
    "- model_year\n",
    "- cylinders\n",
    "- odometer\n",
    "- paint_color\n",
    "- is_4wd"
   ]
  },
  {
   "cell_type": "markdown",
   "metadata": {},
   "source": [
    "#### These columns do not need decimals. Data types will need to be changed on these columns:\n",
    "- model_year\n",
    "- cylinders\n",
    "- odometer\n",
    "- is_4wd"
   ]
  },
  {
   "cell_type": "code",
   "execution_count": 7,
   "metadata": {},
   "outputs": [
    {
     "data": {
      "text/html": [
       "<div>\n",
       "<style scoped>\n",
       "    .dataframe tbody tr th:only-of-type {\n",
       "        vertical-align: middle;\n",
       "    }\n",
       "\n",
       "    .dataframe tbody tr th {\n",
       "        vertical-align: top;\n",
       "    }\n",
       "\n",
       "    .dataframe thead th {\n",
       "        text-align: right;\n",
       "    }\n",
       "</style>\n",
       "<table border=\"1\" class=\"dataframe\">\n",
       "  <thead>\n",
       "    <tr style=\"text-align: right;\">\n",
       "      <th></th>\n",
       "      <th>price</th>\n",
       "      <th>model_year</th>\n",
       "      <th>cylinders</th>\n",
       "      <th>odometer</th>\n",
       "      <th>is_4wd</th>\n",
       "      <th>days_listed</th>\n",
       "    </tr>\n",
       "  </thead>\n",
       "  <tbody>\n",
       "    <tr>\n",
       "      <th>count</th>\n",
       "      <td>51525.000000</td>\n",
       "      <td>47906.000000</td>\n",
       "      <td>46265.000000</td>\n",
       "      <td>43633.000000</td>\n",
       "      <td>25572.0</td>\n",
       "      <td>51525.00000</td>\n",
       "    </tr>\n",
       "    <tr>\n",
       "      <th>mean</th>\n",
       "      <td>12132.464920</td>\n",
       "      <td>2009.750470</td>\n",
       "      <td>6.125235</td>\n",
       "      <td>115553.461738</td>\n",
       "      <td>1.0</td>\n",
       "      <td>39.55476</td>\n",
       "    </tr>\n",
       "    <tr>\n",
       "      <th>std</th>\n",
       "      <td>10040.803015</td>\n",
       "      <td>6.282065</td>\n",
       "      <td>1.660360</td>\n",
       "      <td>65094.611341</td>\n",
       "      <td>0.0</td>\n",
       "      <td>28.20427</td>\n",
       "    </tr>\n",
       "    <tr>\n",
       "      <th>min</th>\n",
       "      <td>1.000000</td>\n",
       "      <td>1908.000000</td>\n",
       "      <td>3.000000</td>\n",
       "      <td>0.000000</td>\n",
       "      <td>1.0</td>\n",
       "      <td>0.00000</td>\n",
       "    </tr>\n",
       "    <tr>\n",
       "      <th>25%</th>\n",
       "      <td>5000.000000</td>\n",
       "      <td>2006.000000</td>\n",
       "      <td>4.000000</td>\n",
       "      <td>70000.000000</td>\n",
       "      <td>1.0</td>\n",
       "      <td>19.00000</td>\n",
       "    </tr>\n",
       "    <tr>\n",
       "      <th>50%</th>\n",
       "      <td>9000.000000</td>\n",
       "      <td>2011.000000</td>\n",
       "      <td>6.000000</td>\n",
       "      <td>113000.000000</td>\n",
       "      <td>1.0</td>\n",
       "      <td>33.00000</td>\n",
       "    </tr>\n",
       "    <tr>\n",
       "      <th>75%</th>\n",
       "      <td>16839.000000</td>\n",
       "      <td>2014.000000</td>\n",
       "      <td>8.000000</td>\n",
       "      <td>155000.000000</td>\n",
       "      <td>1.0</td>\n",
       "      <td>53.00000</td>\n",
       "    </tr>\n",
       "    <tr>\n",
       "      <th>max</th>\n",
       "      <td>375000.000000</td>\n",
       "      <td>2019.000000</td>\n",
       "      <td>12.000000</td>\n",
       "      <td>990000.000000</td>\n",
       "      <td>1.0</td>\n",
       "      <td>271.00000</td>\n",
       "    </tr>\n",
       "  </tbody>\n",
       "</table>\n",
       "</div>"
      ],
      "text/plain": [
       "               price    model_year     cylinders       odometer   is_4wd  \\\n",
       "count   51525.000000  47906.000000  46265.000000   43633.000000  25572.0   \n",
       "mean    12132.464920   2009.750470      6.125235  115553.461738      1.0   \n",
       "std     10040.803015      6.282065      1.660360   65094.611341      0.0   \n",
       "min         1.000000   1908.000000      3.000000       0.000000      1.0   \n",
       "25%      5000.000000   2006.000000      4.000000   70000.000000      1.0   \n",
       "50%      9000.000000   2011.000000      6.000000  113000.000000      1.0   \n",
       "75%     16839.000000   2014.000000      8.000000  155000.000000      1.0   \n",
       "max    375000.000000   2019.000000     12.000000  990000.000000      1.0   \n",
       "\n",
       "       days_listed  \n",
       "count  51525.00000  \n",
       "mean      39.55476  \n",
       "std       28.20427  \n",
       "min        0.00000  \n",
       "25%       19.00000  \n",
       "50%       33.00000  \n",
       "75%       53.00000  \n",
       "max      271.00000  "
      ]
     },
     "execution_count": 7,
     "metadata": {},
     "output_type": "execute_result"
    }
   ],
   "source": [
    "autos.describe()"
   ]
  },
  {
   "cell_type": "markdown",
   "metadata": {},
   "source": [
    "<b> A quick glance shows:</b>\n",
    "<br>\n",
    "- The oldest car that has sold, from this dataset, was over 100 years old, from the year 1908.\n",
    "- The average sale price is \\$12,132.  \n",
    "- The highest sales price is \\$375,000.\n",
    "- The most cylinders on any of these cars is 12. The least is 3.\n",
    "- The average odometer reading is 115,553.\n",
    "- The average days listed is 40 days."
   ]
  },
  {
   "cell_type": "code",
   "execution_count": 8,
   "metadata": {},
   "outputs": [
    {
     "data": {
      "text/html": [
       "<img src=\"../car_wash.jpeg\" width=\"300\" height=\"300\"/>"
      ],
      "text/plain": [
       "<IPython.core.display.Image object>"
      ]
     },
     "execution_count": 8,
     "metadata": {},
     "output_type": "execute_result"
    }
   ],
   "source": [
    "Image(url='../car_wash.jpeg', width=300, height=300) "
   ]
  },
  {
   "cell_type": "markdown",
   "metadata": {},
   "source": [
    "<h2 style=\"color:red;\">Clean the data</h2>"
   ]
  },
  {
   "cell_type": "markdown",
   "metadata": {},
   "source": [
    "### Rename column names"
   ]
  },
  {
   "cell_type": "code",
   "execution_count": 9,
   "metadata": {},
   "outputs": [
    {
     "data": {
      "text/html": [
       "<div>\n",
       "<style scoped>\n",
       "    .dataframe tbody tr th:only-of-type {\n",
       "        vertical-align: middle;\n",
       "    }\n",
       "\n",
       "    .dataframe tbody tr th {\n",
       "        vertical-align: top;\n",
       "    }\n",
       "\n",
       "    .dataframe thead th {\n",
       "        text-align: right;\n",
       "    }\n",
       "</style>\n",
       "<table border=\"1\" class=\"dataframe\">\n",
       "  <thead>\n",
       "    <tr style=\"text-align: right;\">\n",
       "      <th></th>\n",
       "      <th>price</th>\n",
       "      <th>year</th>\n",
       "      <th>model</th>\n",
       "      <th>condition</th>\n",
       "      <th>cyl</th>\n",
       "      <th>fuel</th>\n",
       "      <th>odometer</th>\n",
       "      <th>transmission</th>\n",
       "      <th>type</th>\n",
       "      <th>color</th>\n",
       "      <th>is_4wd</th>\n",
       "      <th>date_posted</th>\n",
       "      <th>DOM</th>\n",
       "    </tr>\n",
       "  </thead>\n",
       "  <tbody>\n",
       "    <tr>\n",
       "      <th>0</th>\n",
       "      <td>9400</td>\n",
       "      <td>2011.0</td>\n",
       "      <td>bmw x5</td>\n",
       "      <td>good</td>\n",
       "      <td>6.0</td>\n",
       "      <td>gas</td>\n",
       "      <td>145000.0</td>\n",
       "      <td>automatic</td>\n",
       "      <td>SUV</td>\n",
       "      <td>NaN</td>\n",
       "      <td>1.0</td>\n",
       "      <td>2018-06-23</td>\n",
       "      <td>19</td>\n",
       "    </tr>\n",
       "    <tr>\n",
       "      <th>1</th>\n",
       "      <td>25500</td>\n",
       "      <td>NaN</td>\n",
       "      <td>ford f-150</td>\n",
       "      <td>good</td>\n",
       "      <td>6.0</td>\n",
       "      <td>gas</td>\n",
       "      <td>88705.0</td>\n",
       "      <td>automatic</td>\n",
       "      <td>pickup</td>\n",
       "      <td>white</td>\n",
       "      <td>1.0</td>\n",
       "      <td>2018-10-19</td>\n",
       "      <td>50</td>\n",
       "    </tr>\n",
       "    <tr>\n",
       "      <th>2</th>\n",
       "      <td>5500</td>\n",
       "      <td>2013.0</td>\n",
       "      <td>hyundai sonata</td>\n",
       "      <td>like new</td>\n",
       "      <td>4.0</td>\n",
       "      <td>gas</td>\n",
       "      <td>110000.0</td>\n",
       "      <td>automatic</td>\n",
       "      <td>sedan</td>\n",
       "      <td>red</td>\n",
       "      <td>NaN</td>\n",
       "      <td>2019-02-07</td>\n",
       "      <td>79</td>\n",
       "    </tr>\n",
       "  </tbody>\n",
       "</table>\n",
       "</div>"
      ],
      "text/plain": [
       "   price    year           model condition  cyl fuel  odometer transmission  \\\n",
       "0   9400  2011.0          bmw x5      good  6.0  gas  145000.0    automatic   \n",
       "1  25500     NaN      ford f-150      good  6.0  gas   88705.0    automatic   \n",
       "2   5500  2013.0  hyundai sonata  like new  4.0  gas  110000.0    automatic   \n",
       "\n",
       "     type  color  is_4wd date_posted  DOM  \n",
       "0     SUV    NaN     1.0  2018-06-23   19  \n",
       "1  pickup  white     1.0  2018-10-19   50  \n",
       "2   sedan    red     NaN  2019-02-07   79  "
      ]
     },
     "metadata": {},
     "output_type": "display_data"
    }
   ],
   "source": [
    "autos.rename(columns={'model_year': 'year', 'paint_color': 'color', 'cylinders': 'cyl', 'days_listed': 'DOM'}, inplace=True)\n",
    "display(autos.head(3))"
   ]
  },
  {
   "cell_type": "markdown",
   "metadata": {},
   "source": [
    "### Get rid of Nan values."
   ]
  },
  {
   "cell_type": "code",
   "execution_count": 10,
   "metadata": {},
   "outputs": [],
   "source": [
    "# Fill NaN values with 0\n",
    "autos['cyl'] = autos['cyl'].fillna(0)\n",
    "autos['year'] = autos['year'].fillna(0)"
   ]
  },
  {
   "cell_type": "markdown",
   "metadata": {},
   "source": [
    "### Imputate data"
   ]
  },
  {
   "cell_type": "code",
   "execution_count": 11,
   "metadata": {},
   "outputs": [],
   "source": [
    "# Calculate the average of the 'odometer' column while ignoring NaN values\n",
    "mean_odometer = autos['odometer'].mean()\n",
    "\n",
    "# Fill NaN values with the calculated average\n",
    "autos['odometer'] = autos['odometer'].fillna(mean_odometer)"
   ]
  },
  {
   "cell_type": "code",
   "execution_count": 12,
   "metadata": {},
   "outputs": [],
   "source": [
    "# Fill Nan with \"unknown\"\n",
    "autos['color'] = autos['color'].fillna('unknown')"
   ]
  },
  {
   "cell_type": "code",
   "execution_count": 13,
   "metadata": {},
   "outputs": [],
   "source": [
    "autos['is_4wd'] = autos['is_4wd'].fillna(pd.Series(np.random.choice([0.0, 1.0], size=len(autos['is_4wd']))))"
   ]
  },
  {
   "cell_type": "markdown",
   "metadata": {},
   "source": [
    "### Get rid of '0' values"
   ]
  },
  {
   "cell_type": "code",
   "execution_count": 30,
   "metadata": {},
   "outputs": [],
   "source": [
    "# Replace 0 with None or NaN\n",
    "autos['year'] = autos['year'].replace(0, pd.NA)"
   ]
  },
  {
   "cell_type": "markdown",
   "metadata": {},
   "source": [
    "### Change data types"
   ]
  },
  {
   "cell_type": "code",
   "execution_count": 31,
   "metadata": {},
   "outputs": [],
   "source": [
    "# Change the data type to a nullable integer type. Supports missing data.\n",
    "autos['year'] = autos['year'].astype('Int64')\n",
    "\n",
    "# Change the data type from float to int\n",
    "autos['odometer'] = autos['odometer'].astype(int)"
   ]
  },
  {
   "cell_type": "code",
   "execution_count": 32,
   "metadata": {},
   "outputs": [
    {
     "name": "stdout",
     "output_type": "stream",
     "text": [
      "0    6\n",
      "1    6\n",
      "2    4\n",
      "3    8\n",
      "4    4\n",
      "Name: cyl, dtype: int64\n"
     ]
    }
   ],
   "source": [
    "# Get rid of decimals in cyl column\n",
    "autos['cyl'] = autos['cyl'].astype(int)\n",
    "print(autos.cyl.head(5))"
   ]
  },
  {
   "cell_type": "code",
   "execution_count": 33,
   "metadata": {},
   "outputs": [],
   "source": [
    "# Convert 'condition' and 'color' to categorical\n",
    "autos['condition'] = autos['condition'].astype('category')\n",
    "autos['color'] = autos['color'].astype('category')\n",
    "#autos['cyl'] = autos['cyl'].astype('category')"
   ]
  },
  {
   "cell_type": "code",
   "execution_count": 34,
   "metadata": {},
   "outputs": [],
   "source": [
    "#Change data type of date_posted column to type datetime\n",
    "autos['date_posted'] = pd.to_datetime(autos['date_posted'])\n",
    "\n",
    "#Format the date_posted column to mm-dd-yyyy\n",
    "autos['date_posted'] = autos['date_posted'].dt.strftime('%m-%d-%Y')"
   ]
  },
  {
   "cell_type": "code",
   "execution_count": 35,
   "metadata": {},
   "outputs": [],
   "source": [
    "#Convert to type boolean\n",
    "autos['is_4wd'] = autos['is_4wd'].astype(bool)\n",
    "#autos['is_4wd'] = autos['is_4wd'].map({0.0: 0, 1.0: 1})"
   ]
  },
  {
   "cell_type": "code",
   "execution_count": 36,
   "metadata": {},
   "outputs": [
    {
     "data": {
      "text/html": [
       "<div>\n",
       "<style scoped>\n",
       "    .dataframe tbody tr th:only-of-type {\n",
       "        vertical-align: middle;\n",
       "    }\n",
       "\n",
       "    .dataframe tbody tr th {\n",
       "        vertical-align: top;\n",
       "    }\n",
       "\n",
       "    .dataframe thead th {\n",
       "        text-align: right;\n",
       "    }\n",
       "</style>\n",
       "<table border=\"1\" class=\"dataframe\">\n",
       "  <thead>\n",
       "    <tr style=\"text-align: right;\">\n",
       "      <th></th>\n",
       "      <th>price</th>\n",
       "      <th>year</th>\n",
       "      <th>model</th>\n",
       "      <th>condition</th>\n",
       "      <th>cyl</th>\n",
       "      <th>fuel</th>\n",
       "      <th>odometer</th>\n",
       "      <th>transmission</th>\n",
       "      <th>type</th>\n",
       "      <th>color</th>\n",
       "      <th>is_4wd</th>\n",
       "      <th>date_posted</th>\n",
       "      <th>DOM</th>\n",
       "    </tr>\n",
       "  </thead>\n",
       "  <tbody>\n",
       "    <tr>\n",
       "      <th>0</th>\n",
       "      <td>9400</td>\n",
       "      <td>2011</td>\n",
       "      <td>bmw x5</td>\n",
       "      <td>good</td>\n",
       "      <td>6</td>\n",
       "      <td>gas</td>\n",
       "      <td>145000</td>\n",
       "      <td>automatic</td>\n",
       "      <td>SUV</td>\n",
       "      <td>unknown</td>\n",
       "      <td>True</td>\n",
       "      <td>06-23-2018</td>\n",
       "      <td>19</td>\n",
       "    </tr>\n",
       "    <tr>\n",
       "      <th>1</th>\n",
       "      <td>25500</td>\n",
       "      <td>&lt;NA&gt;</td>\n",
       "      <td>ford f-150</td>\n",
       "      <td>good</td>\n",
       "      <td>6</td>\n",
       "      <td>gas</td>\n",
       "      <td>88705</td>\n",
       "      <td>automatic</td>\n",
       "      <td>pickup</td>\n",
       "      <td>white</td>\n",
       "      <td>True</td>\n",
       "      <td>10-19-2018</td>\n",
       "      <td>50</td>\n",
       "    </tr>\n",
       "    <tr>\n",
       "      <th>2</th>\n",
       "      <td>5500</td>\n",
       "      <td>2013</td>\n",
       "      <td>hyundai sonata</td>\n",
       "      <td>like new</td>\n",
       "      <td>4</td>\n",
       "      <td>gas</td>\n",
       "      <td>110000</td>\n",
       "      <td>automatic</td>\n",
       "      <td>sedan</td>\n",
       "      <td>red</td>\n",
       "      <td>False</td>\n",
       "      <td>02-07-2019</td>\n",
       "      <td>79</td>\n",
       "    </tr>\n",
       "  </tbody>\n",
       "</table>\n",
       "</div>"
      ],
      "text/plain": [
       "   price  year           model condition  cyl fuel  odometer transmission  \\\n",
       "0   9400  2011          bmw x5      good    6  gas    145000    automatic   \n",
       "1  25500  <NA>      ford f-150      good    6  gas     88705    automatic   \n",
       "2   5500  2013  hyundai sonata  like new    4  gas    110000    automatic   \n",
       "\n",
       "     type    color  is_4wd date_posted  DOM  \n",
       "0     SUV  unknown    True  06-23-2018   19  \n",
       "1  pickup    white    True  10-19-2018   50  \n",
       "2   sedan      red   False  02-07-2019   79  "
      ]
     },
     "metadata": {},
     "output_type": "display_data"
    }
   ],
   "source": [
    "display(autos.head(3))"
   ]
  },
  {
   "cell_type": "code",
   "execution_count": 37,
   "metadata": {},
   "outputs": [
    {
     "name": "stdout",
     "output_type": "stream",
     "text": [
      "<class 'pandas.core.frame.DataFrame'>\n",
      "RangeIndex: 51525 entries, 0 to 51524\n",
      "Data columns (total 13 columns):\n",
      " #   Column        Non-Null Count  Dtype   \n",
      "---  ------        --------------  -----   \n",
      " 0   price         51525 non-null  int64   \n",
      " 1   year          47906 non-null  Int64   \n",
      " 2   model         51525 non-null  object  \n",
      " 3   condition     51525 non-null  category\n",
      " 4   cyl           51525 non-null  int64   \n",
      " 5   fuel          51525 non-null  object  \n",
      " 6   odometer      51525 non-null  int64   \n",
      " 7   transmission  51525 non-null  object  \n",
      " 8   type          51525 non-null  object  \n",
      " 9   color         51525 non-null  category\n",
      " 10  is_4wd        51525 non-null  bool    \n",
      " 11  date_posted   51525 non-null  object  \n",
      " 12  DOM           51525 non-null  int64   \n",
      "dtypes: Int64(1), bool(1), category(2), int64(4), object(5)\n",
      "memory usage: 4.1+ MB\n"
     ]
    }
   ],
   "source": [
    "autos.info()"
   ]
  },
  {
   "cell_type": "code",
   "execution_count": 38,
   "metadata": {
    "scrolled": true
   },
   "outputs": [
    {
     "data": {
      "text/html": [
       "<div>\n",
       "<style scoped>\n",
       "    .dataframe tbody tr th:only-of-type {\n",
       "        vertical-align: middle;\n",
       "    }\n",
       "\n",
       "    .dataframe tbody tr th {\n",
       "        vertical-align: top;\n",
       "    }\n",
       "\n",
       "    .dataframe thead th {\n",
       "        text-align: right;\n",
       "    }\n",
       "</style>\n",
       "<table border=\"1\" class=\"dataframe\">\n",
       "  <thead>\n",
       "    <tr style=\"text-align: right;\">\n",
       "      <th></th>\n",
       "      <th>price</th>\n",
       "      <th>year</th>\n",
       "      <th>model</th>\n",
       "      <th>condition</th>\n",
       "      <th>cyl</th>\n",
       "      <th>fuel</th>\n",
       "      <th>odometer</th>\n",
       "      <th>transmission</th>\n",
       "      <th>type</th>\n",
       "      <th>color</th>\n",
       "      <th>is_4wd</th>\n",
       "      <th>date_posted</th>\n",
       "      <th>DOM</th>\n",
       "    </tr>\n",
       "  </thead>\n",
       "  <tbody>\n",
       "    <tr>\n",
       "      <th>51512</th>\n",
       "      <td>7300</td>\n",
       "      <td>2013</td>\n",
       "      <td>nissan altima</td>\n",
       "      <td>excellent</td>\n",
       "      <td>6</td>\n",
       "      <td>gas</td>\n",
       "      <td>7100</td>\n",
       "      <td>automatic</td>\n",
       "      <td>sedan</td>\n",
       "      <td>black</td>\n",
       "      <td>True</td>\n",
       "      <td>06-17-2018</td>\n",
       "      <td>63</td>\n",
       "    </tr>\n",
       "    <tr>\n",
       "      <th>51513</th>\n",
       "      <td>17999</td>\n",
       "      <td>2014</td>\n",
       "      <td>ram 1500</td>\n",
       "      <td>like new</td>\n",
       "      <td>8</td>\n",
       "      <td>gas</td>\n",
       "      <td>154000</td>\n",
       "      <td>automatic</td>\n",
       "      <td>pickup</td>\n",
       "      <td>white</td>\n",
       "      <td>True</td>\n",
       "      <td>06-21-2018</td>\n",
       "      <td>11</td>\n",
       "    </tr>\n",
       "    <tr>\n",
       "      <th>51514</th>\n",
       "      <td>4800</td>\n",
       "      <td>2012</td>\n",
       "      <td>volkswagen jetta</td>\n",
       "      <td>good</td>\n",
       "      <td>4</td>\n",
       "      <td>gas</td>\n",
       "      <td>138000</td>\n",
       "      <td>automatic</td>\n",
       "      <td>sedan</td>\n",
       "      <td>silver</td>\n",
       "      <td>False</td>\n",
       "      <td>07-19-2018</td>\n",
       "      <td>39</td>\n",
       "    </tr>\n",
       "    <tr>\n",
       "      <th>51515</th>\n",
       "      <td>12000</td>\n",
       "      <td>2005</td>\n",
       "      <td>chevrolet silverado 2500hd</td>\n",
       "      <td>good</td>\n",
       "      <td>8</td>\n",
       "      <td>diesel</td>\n",
       "      <td>228000</td>\n",
       "      <td>automatic</td>\n",
       "      <td>pickup</td>\n",
       "      <td>silver</td>\n",
       "      <td>True</td>\n",
       "      <td>08-18-2018</td>\n",
       "      <td>52</td>\n",
       "    </tr>\n",
       "    <tr>\n",
       "      <th>51516</th>\n",
       "      <td>8999</td>\n",
       "      <td>2011</td>\n",
       "      <td>jeep grand cherokee</td>\n",
       "      <td>good</td>\n",
       "      <td>6</td>\n",
       "      <td>gas</td>\n",
       "      <td>115553</td>\n",
       "      <td>automatic</td>\n",
       "      <td>SUV</td>\n",
       "      <td>white</td>\n",
       "      <td>True</td>\n",
       "      <td>11-01-2018</td>\n",
       "      <td>51</td>\n",
       "    </tr>\n",
       "    <tr>\n",
       "      <th>51517</th>\n",
       "      <td>11000</td>\n",
       "      <td>2012</td>\n",
       "      <td>dodge charger</td>\n",
       "      <td>excellent</td>\n",
       "      <td>8</td>\n",
       "      <td>gas</td>\n",
       "      <td>81000</td>\n",
       "      <td>automatic</td>\n",
       "      <td>sedan</td>\n",
       "      <td>black</td>\n",
       "      <td>False</td>\n",
       "      <td>04-19-2019</td>\n",
       "      <td>44</td>\n",
       "    </tr>\n",
       "    <tr>\n",
       "      <th>51518</th>\n",
       "      <td>3750</td>\n",
       "      <td>2005</td>\n",
       "      <td>ford taurus</td>\n",
       "      <td>excellent</td>\n",
       "      <td>6</td>\n",
       "      <td>gas</td>\n",
       "      <td>110200</td>\n",
       "      <td>automatic</td>\n",
       "      <td>sedan</td>\n",
       "      <td>silver</td>\n",
       "      <td>True</td>\n",
       "      <td>08-10-2018</td>\n",
       "      <td>63</td>\n",
       "    </tr>\n",
       "    <tr>\n",
       "      <th>51519</th>\n",
       "      <td>11750</td>\n",
       "      <td>2015</td>\n",
       "      <td>honda accord</td>\n",
       "      <td>excellent</td>\n",
       "      <td>4</td>\n",
       "      <td>gas</td>\n",
       "      <td>115553</td>\n",
       "      <td>automatic</td>\n",
       "      <td>coupe</td>\n",
       "      <td>unknown</td>\n",
       "      <td>False</td>\n",
       "      <td>11-24-2018</td>\n",
       "      <td>89</td>\n",
       "    </tr>\n",
       "    <tr>\n",
       "      <th>51520</th>\n",
       "      <td>9249</td>\n",
       "      <td>2013</td>\n",
       "      <td>nissan maxima</td>\n",
       "      <td>like new</td>\n",
       "      <td>6</td>\n",
       "      <td>gas</td>\n",
       "      <td>88136</td>\n",
       "      <td>automatic</td>\n",
       "      <td>sedan</td>\n",
       "      <td>black</td>\n",
       "      <td>False</td>\n",
       "      <td>10-03-2018</td>\n",
       "      <td>37</td>\n",
       "    </tr>\n",
       "    <tr>\n",
       "      <th>51521</th>\n",
       "      <td>2700</td>\n",
       "      <td>2002</td>\n",
       "      <td>honda civic</td>\n",
       "      <td>salvage</td>\n",
       "      <td>4</td>\n",
       "      <td>gas</td>\n",
       "      <td>181500</td>\n",
       "      <td>automatic</td>\n",
       "      <td>sedan</td>\n",
       "      <td>white</td>\n",
       "      <td>False</td>\n",
       "      <td>11-14-2018</td>\n",
       "      <td>22</td>\n",
       "    </tr>\n",
       "    <tr>\n",
       "      <th>51522</th>\n",
       "      <td>3950</td>\n",
       "      <td>2009</td>\n",
       "      <td>hyundai sonata</td>\n",
       "      <td>excellent</td>\n",
       "      <td>4</td>\n",
       "      <td>gas</td>\n",
       "      <td>128000</td>\n",
       "      <td>automatic</td>\n",
       "      <td>sedan</td>\n",
       "      <td>blue</td>\n",
       "      <td>False</td>\n",
       "      <td>11-15-2018</td>\n",
       "      <td>32</td>\n",
       "    </tr>\n",
       "    <tr>\n",
       "      <th>51523</th>\n",
       "      <td>7455</td>\n",
       "      <td>2013</td>\n",
       "      <td>toyota corolla</td>\n",
       "      <td>good</td>\n",
       "      <td>4</td>\n",
       "      <td>gas</td>\n",
       "      <td>139573</td>\n",
       "      <td>automatic</td>\n",
       "      <td>sedan</td>\n",
       "      <td>black</td>\n",
       "      <td>False</td>\n",
       "      <td>07-02-2018</td>\n",
       "      <td>71</td>\n",
       "    </tr>\n",
       "    <tr>\n",
       "      <th>51524</th>\n",
       "      <td>6300</td>\n",
       "      <td>2014</td>\n",
       "      <td>nissan altima</td>\n",
       "      <td>good</td>\n",
       "      <td>4</td>\n",
       "      <td>gas</td>\n",
       "      <td>115553</td>\n",
       "      <td>automatic</td>\n",
       "      <td>sedan</td>\n",
       "      <td>unknown</td>\n",
       "      <td>False</td>\n",
       "      <td>06-05-2018</td>\n",
       "      <td>10</td>\n",
       "    </tr>\n",
       "  </tbody>\n",
       "</table>\n",
       "</div>"
      ],
      "text/plain": [
       "       price  year                       model  condition  cyl    fuel  \\\n",
       "51512   7300  2013               nissan altima  excellent    6     gas   \n",
       "51513  17999  2014                    ram 1500   like new    8     gas   \n",
       "51514   4800  2012            volkswagen jetta       good    4     gas   \n",
       "51515  12000  2005  chevrolet silverado 2500hd       good    8  diesel   \n",
       "51516   8999  2011         jeep grand cherokee       good    6     gas   \n",
       "51517  11000  2012               dodge charger  excellent    8     gas   \n",
       "51518   3750  2005                 ford taurus  excellent    6     gas   \n",
       "51519  11750  2015                honda accord  excellent    4     gas   \n",
       "51520   9249  2013               nissan maxima   like new    6     gas   \n",
       "51521   2700  2002                 honda civic    salvage    4     gas   \n",
       "51522   3950  2009              hyundai sonata  excellent    4     gas   \n",
       "51523   7455  2013              toyota corolla       good    4     gas   \n",
       "51524   6300  2014               nissan altima       good    4     gas   \n",
       "\n",
       "       odometer transmission    type    color  is_4wd date_posted  DOM  \n",
       "51512      7100    automatic   sedan    black    True  06-17-2018   63  \n",
       "51513    154000    automatic  pickup    white    True  06-21-2018   11  \n",
       "51514    138000    automatic   sedan   silver   False  07-19-2018   39  \n",
       "51515    228000    automatic  pickup   silver    True  08-18-2018   52  \n",
       "51516    115553    automatic     SUV    white    True  11-01-2018   51  \n",
       "51517     81000    automatic   sedan    black   False  04-19-2019   44  \n",
       "51518    110200    automatic   sedan   silver    True  08-10-2018   63  \n",
       "51519    115553    automatic   coupe  unknown   False  11-24-2018   89  \n",
       "51520     88136    automatic   sedan    black   False  10-03-2018   37  \n",
       "51521    181500    automatic   sedan    white   False  11-14-2018   22  \n",
       "51522    128000    automatic   sedan     blue   False  11-15-2018   32  \n",
       "51523    139573    automatic   sedan    black   False  07-02-2018   71  \n",
       "51524    115553    automatic   sedan  unknown   False  06-05-2018   10  "
      ]
     },
     "metadata": {},
     "output_type": "display_data"
    }
   ],
   "source": [
    "display(autos.tail(13))"
   ]
  },
  {
   "cell_type": "code",
   "execution_count": 39,
   "metadata": {},
   "outputs": [
    {
     "data": {
      "text/plain": [
       "1908"
      ]
     },
     "execution_count": 39,
     "metadata": {},
     "output_type": "execute_result"
    }
   ],
   "source": [
    "autos['year'].min()"
   ]
  },
  {
   "cell_type": "code",
   "execution_count": 40,
   "metadata": {},
   "outputs": [
    {
     "data": {
      "text/plain": [
       "2019"
      ]
     },
     "execution_count": 40,
     "metadata": {},
     "output_type": "execute_result"
    }
   ],
   "source": [
    "autos['year'].max()"
   ]
  },
  {
   "cell_type": "code",
   "execution_count": 41,
   "metadata": {},
   "outputs": [
    {
     "data": {
      "text/plain": [
       "year\n",
       "2013    3549\n",
       "2012    3468\n",
       "2014    3448\n",
       "2011    3375\n",
       "2015    3323\n",
       "        ... \n",
       "1948       1\n",
       "1961       1\n",
       "1936       1\n",
       "1949       1\n",
       "1929       1\n",
       "Name: count, Length: 68, dtype: Int64"
      ]
     },
     "execution_count": 41,
     "metadata": {},
     "output_type": "execute_result"
    }
   ],
   "source": [
    "autos['year'].value_counts()"
   ]
  },
  {
   "cell_type": "code",
   "execution_count": 42,
   "metadata": {},
   "outputs": [
    {
     "name": "stdout",
     "output_type": "stream",
     "text": [
      "7.02% of the values in the \"years\" column have missing data\n"
     ]
    }
   ],
   "source": [
    "result = (3619 / 51525) * 100\n",
    "rounded_result = round(result, 2)\n",
    "print(str(rounded_result) + '% of the values in the \"years\" column have missing data')"
   ]
  },
  {
   "cell_type": "code",
   "execution_count": 43,
   "metadata": {},
   "outputs": [
    {
     "data": {
      "text/plain": [
       "condition\n",
       "excellent    24773\n",
       "good         20145\n",
       "like new      4742\n",
       "fair          1607\n",
       "new            143\n",
       "salvage        115\n",
       "Name: count, dtype: int64"
      ]
     },
     "execution_count": 43,
     "metadata": {},
     "output_type": "execute_result"
    }
   ],
   "source": [
    "autos['condition'].value_counts()"
   ]
  },
  {
   "cell_type": "code",
   "execution_count": 44,
   "metadata": {},
   "outputs": [
    {
     "data": {
      "text/plain": [
       "transmission\n",
       "automatic    46902\n",
       "manual        2829\n",
       "other         1794\n",
       "Name: count, dtype: int64"
      ]
     },
     "execution_count": 44,
     "metadata": {},
     "output_type": "execute_result"
    }
   ],
   "source": [
    "autos['transmission'].value_counts()"
   ]
  },
  {
   "cell_type": "code",
   "execution_count": 45,
   "metadata": {},
   "outputs": [
    {
     "data": {
      "text/plain": [
       "type\n",
       "SUV            12405\n",
       "truck          12353\n",
       "sedan          12154\n",
       "pickup          6988\n",
       "coupe           2303\n",
       "wagon           1541\n",
       "mini-van        1161\n",
       "hatchback       1047\n",
       "van              633\n",
       "convertible      446\n",
       "other            256\n",
       "offroad          214\n",
       "bus               24\n",
       "Name: count, dtype: int64"
      ]
     },
     "execution_count": 45,
     "metadata": {},
     "output_type": "execute_result"
    }
   ],
   "source": [
    "autos['type'].value_counts()"
   ]
  },
  {
   "cell_type": "code",
   "execution_count": null,
   "metadata": {},
   "outputs": [],
   "source": []
  },
  {
   "cell_type": "code",
   "execution_count": null,
   "metadata": {},
   "outputs": [],
   "source": [
    "autos['color'].value_counts()"
   ]
  },
  {
   "cell_type": "code",
   "execution_count": null,
   "metadata": {},
   "outputs": [],
   "source": []
  },
  {
   "cell_type": "code",
   "execution_count": null,
   "metadata": {},
   "outputs": [],
   "source": [
    "Image(url='../car_wax.jpeg', width=300, height=300) "
   ]
  },
  {
   "cell_type": "markdown",
   "metadata": {},
   "source": [
    "### Remove outliers"
   ]
  },
  {
   "cell_type": "markdown",
   "metadata": {},
   "source": [
    "#### Remove 'price' outliers"
   ]
  },
  {
   "cell_type": "code",
   "execution_count": null,
   "metadata": {},
   "outputs": [],
   "source": [
    "autos.price.describe()"
   ]
  },
  {
   "cell_type": "code",
   "execution_count": null,
   "metadata": {},
   "outputs": [],
   "source": [
    "# Create a histogram chart with Plotly Express\n",
    "fig = px.histogram(autos, x='price', title='Distribution of Price', labels={'price': 'Price', 'count': 'Frequency'})\n",
    "# Show the chart\n",
    "fig.show()"
   ]
  },
  {
   "cell_type": "markdown",
   "metadata": {},
   "source": [
    "#### The distribution of 'price' is right skewed. The outliers need to be removed."
   ]
  },
  {
   "cell_type": "code",
   "execution_count": null,
   "metadata": {},
   "outputs": [],
   "source": [
    "# Calculate the first quartile (Q1)\n",
    "price_Q1 = autos['price'].quantile(0.25)\n",
    "\n",
    "# Calculate the third quartile (Q3)\n",
    "price_Q3 = autos['price'].quantile(0.75)\n",
    "\n",
    "# Calculate the IQR\n",
    "price_IQR = price_Q3 - price_Q1\n",
    "\n",
    "print(\"price 1st quartile: \" + str(price_Q1))\n",
    "print(\"price 3rd quartile: \" + str(price_Q3))\n",
    "print(\"price IQR: \" + str(price_IQR))"
   ]
  },
  {
   "cell_type": "code",
   "execution_count": null,
   "metadata": {},
   "outputs": [],
   "source": [
    "# Define the lower bound (anything below this value is considered an outlier)\n",
    "price_lower_bound = price_Q1 - 1.5 * price_IQR\n",
    "\n",
    "# Define the upper bound (anything above this value is considered an outlier)\n",
    "price_upper_bound = price_Q3 + 1.5 * price_IQR\n",
    "\n",
    "# Negative number confirms that there was an extreme outlier in the price column\n",
    "print(price_lower_bound)\n",
    "print(price_upper_bound)"
   ]
  },
  {
   "cell_type": "code",
   "execution_count": null,
   "metadata": {},
   "outputs": [],
   "source": [
    "#'price' column now has a new range of data that falls between the lower bound and the upper bound, as created above.\n",
    "autos['price'] = autos.loc[(autos['price'] >= price_lower_bound) & (autos['price'] <= price_upper_bound), 'price']"
   ]
  },
  {
   "cell_type": "markdown",
   "metadata": {},
   "source": [
    "#### After removing 'price' outlier, max price has gone from \\$ 370,000 to 34,595."
   ]
  },
  {
   "cell_type": "markdown",
   "metadata": {},
   "source": [
    "### Remove 'odometer' outliers"
   ]
  },
  {
   "cell_type": "code",
   "execution_count": null,
   "metadata": {},
   "outputs": [],
   "source": [
    "# Create a histogram chart with Plotly Express\n",
    "fig = px.histogram(autos, x='odometer', title='Distribution of Odometer readings', labels={'Odometer': 'odometer', 'count': 'Frequency'})\n",
    "# Show the chart\n",
    "fig.show()"
   ]
  },
  {
   "cell_type": "markdown",
   "metadata": {},
   "source": [
    "#### The distribution of 'odometer' is right skewed. The outliers need to be removed."
   ]
  },
  {
   "cell_type": "code",
   "execution_count": null,
   "metadata": {},
   "outputs": [],
   "source": [
    "autos.odometer.describe()"
   ]
  },
  {
   "cell_type": "markdown",
   "metadata": {},
   "source": [
    "#### Highest odometer reading is 990,000 miles. That is unrealistic."
   ]
  },
  {
   "cell_type": "code",
   "execution_count": null,
   "metadata": {},
   "outputs": [],
   "source": [
    "# Calculate the first quartile (Q1)\n",
    "odo_Q1 = autos['odometer'].quantile(0.25)\n",
    "\n",
    "# Calculate the third quartile (Q3)\n",
    "odo_Q3 = autos['odometer'].quantile(0.75)\n",
    "\n",
    "# Calculate the IQR\n",
    "odo_IQR = odo_Q3 - odo_Q1\n",
    "\n",
    "print(\"odometer 1st quartile: \" + str(odo_Q1))\n",
    "print(\"odometer 3rd quartile: \" + str(odo_Q3))\n",
    "print(\"odometer IQR: \" + str(odo_IQR))"
   ]
  },
  {
   "cell_type": "code",
   "execution_count": null,
   "metadata": {},
   "outputs": [],
   "source": [
    "# Define the lower bound (anything below this value is considered an outlier)\n",
    "odo_lower_bound = odo_Q1 - 1.5 * odo_IQR\n",
    "\n",
    "# Define the upper bound (anything above this value is considered an outlier)\n",
    "odo_upper_bound = odo_Q3 + 1.5 * odo_IQR\n",
    "\n",
    "# Negative number confirms that there was an extreme outlier in the 'odometer' column\n",
    "print(odo_lower_bound)\n",
    "print(odo_upper_bound)"
   ]
  },
  {
   "cell_type": "code",
   "execution_count": null,
   "metadata": {},
   "outputs": [],
   "source": [
    "#change 'odometer' to only contain the range between upper bound and lower bound.\n",
    "autos['odometer'] = autos.loc[(autos['odometer'] >= odo_lower_bound) & (autos['odometer'] <= odo_upper_bound), 'odometer']"
   ]
  },
  {
   "cell_type": "code",
   "execution_count": null,
   "metadata": {},
   "outputs": [],
   "source": [
    "autos.odometer.describe()"
   ]
  },
  {
   "cell_type": "markdown",
   "metadata": {},
   "source": [
    "#### After removing outliers, max odometer reading has gone from 990,000 to 247,548."
   ]
  },
  {
   "cell_type": "code",
   "execution_count": null,
   "metadata": {},
   "outputs": [],
   "source": [
    "# Create a histogram chart with Plotly Express\n",
    "fig = px.histogram(autos, x='odometer', title='Distribution of Odometer readings', labels={'Odometer': 'odometer', 'count': 'Frequency'})\n",
    "# Show the chart\n",
    "fig.show()"
   ]
  },
  {
   "cell_type": "code",
   "execution_count": null,
   "metadata": {
    "jp-MarkdownHeadingCollapsed": true
   },
   "outputs": [],
   "source": [
    "Image(url='../car_clean.jpeg', width=300, height=300) "
   ]
  },
  {
   "cell_type": "markdown",
   "metadata": {},
   "source": [
    "### The dataset is clean now.\n",
    "- 4 columns have been renamed to shorter names, so that it is no longer necessary to scroll to see all the columns. \"transmission\" is a long column name, however, the values inside that column are also long, so that column name was not changed.\n",
    "<br>\n",
    "<br>\n",
    "- There is no missing data now. I used fillna to change all Nan values to 0 for the 'cyl' column. Because 7% of the values, in the 'year' column, are missing values, I did not want to drop 3619 rows. I chose to use pd.na to change 0 to NA, in the 'year' column, because I did not want to delete rows. The NA will just be ignored when my graph grabs data for 'year'.  For the odometer column, I took the average of all the odometer readings, and used fillna to change Nan values to the average odometer reading. For Nan values in the color column, I changed those to \"unknown\". For the 'is_4wd' column, I used np.random to randomly change some Nan to 0.0, and some to 1.0, as this column is meant to be boolean. \n",
    "<br>\n",
    "<br>\n",
    "- Data types are appropriate now. I changed 'year', and 'odometer' to type int, because there is no reason to have decimals with those values. I used pd.to_datetime and dt.strftime to change the date_posted column to type datetime, then change the output so that it prints as mm-dd-yyyy. I used astype, to change the is_4wd column, from float to type bool, and now there are just 0 or 1 in that column. I changed the data type of the 'condition' and 'color' columns to type category, to make it easier to plot that info on a graph.\n",
    "<br>\n",
    "<br>\n",
    "- I removed outliers in the 'price' column because my graphs appeared pretty empty, trying to accomodate one sale price of $375,000. I found the 1st quartile, and the 3rd quartile.  Then I found the lower bound, and the upper bound, and made sure that the new 'price' column only contained data within those ranges.  \n",
    "<br>\n",
    "<br>\n",
    "- I also removed outliers in the 'odometer' column, using that same method."
   ]
  },
  {
   "cell_type": "markdown",
   "metadata": {},
   "source": [
    "<h2 style=\"color:red;\">Explore answers to the questions</h2>"
   ]
  },
  {
   "cell_type": "markdown",
   "metadata": {},
   "source": [
    "### What are average car sales prices for each car type?"
   ]
  },
  {
   "cell_type": "markdown",
   "metadata": {},
   "source": [
    "#### Create Scatter plot"
   ]
  },
  {
   "cell_type": "code",
   "execution_count": null,
   "metadata": {},
   "outputs": [],
   "source": [
    "# Calculate average price by car type\n",
    "avg_price_by_type = autos.groupby('type')['price'].mean().round(2)\n",
    "avg_price_by_type_sorted = avg_price_by_type.sort_values(ascending=False).reset_index()\n",
    "\n",
    "# Create scatter plot using Plotly\n",
    "fig_scatter = px.scatter(\n",
    "    avg_price_by_type_sorted,\n",
    "    x='type',\n",
    "    y='price',\n",
    "    title='Average Sales Prices by Car Type',\n",
    "    labels={'type': 'Car Type', 'price': 'Average Price ($)'},\n",
    "    color='type',\n",
    "    color_discrete_sequence=px.colors.qualitative.Plotly,\n",
    "    size='price',  # Optional: makes larger points for higher prices\n",
    "    hover_name='type'  # add hover info\n",
    ")\n",
    "\n",
    "# Customize appearance\n",
    "fig_scatter.update_layout(\n",
    "    title={'x': 0.5, 'font': {'size': 24}},\n",
    "        xaxis=dict(\n",
    "        title=dict(\n",
    "            text='Car Type',\n",
    "            font={'size': 18}\n",
    "        ),\n",
    "        showgrid=True,\n",
    "        gridwidth=1,\n",
    "        gridcolor='LightGray'\n",
    "    ),\n",
    "        yaxis=dict(\n",
    "        title=dict(\n",
    "            text='Average Price ($)',\n",
    "            font={'size': 18}\n",
    "        ),\n",
    "        showgrid=True,\n",
    "        gridwidth=1,\n",
    "        gridcolor='LightGray'\n",
    "    ),\n",
    "    height=600,\n",
    "    legend_title_text='Car Type',\n",
    "    font=dict(size=18)\n",
    ")\n",
    "\n",
    "# Show the plot\n",
    "fig_scatter.show()"
   ]
  },
  {
   "cell_type": "markdown",
   "metadata": {},
   "source": [
    "#### Review of average prices:\n",
    "- Buses sell for the higest prices. Hatchbacks sell for the lowest prices.\n",
    "<br>\n",
    "- From info gathered earlier, we know that the average car sales price is $12,132. Therefore, SUV's, vans, wagons, mini-vans, sedans, and hatchbacks sell for below average prices."
   ]
  },
  {
   "cell_type": "markdown",
   "metadata": {},
   "source": [
    "### What are overall total sales for each car type?"
   ]
  },
  {
   "cell_type": "code",
   "execution_count": null,
   "metadata": {},
   "outputs": [],
   "source": [
    "# Group by 'type' and sum 'price' with observed=False (retain current behavior)\n",
    "total_sales = autos.groupby('type', observed=False)['price'].sum().reset_index()\n",
    "# Print the result\n",
    "print(total_sales)"
   ]
  },
  {
   "cell_type": "markdown",
   "metadata": {},
   "source": [
    "#### Create Bar Chart"
   ]
  },
  {
   "cell_type": "code",
   "execution_count": null,
   "metadata": {},
   "outputs": [],
   "source": [
    "# Create bar chart for total sales by car type using Plotly\n",
    "fig_bar = px.bar(\n",
    "    total_sales,\n",
    "    x='type',\n",
    "    y='price',\n",
    "    title='Total Sales by Car Type',\n",
    "    labels={'type': 'Car Type', 'price': 'Total Sales'},\n",
    "    color='type',\n",
    "    color_discrete_sequence=px.colors.qualitative.Plotly  # Set color palette\n",
    ")\n",
    "\n",
    "# Customize layout and set the height of the chart\n",
    "fig_bar.update_layout(\n",
    "    xaxis_title={'text': 'Car Type', 'font': {'size': 18}},\n",
    "    yaxis_title={'text': 'Total Sales', 'font': {'size': 18}},\n",
    "    title={\n",
    "        'text': 'Total Sales by Car Type',\n",
    "        'x': 0.5,\n",
    "        'font': {'size': 24}\n",
    "    },\n",
    "    height=800,\n",
    "    legend=dict(\n",
    "        title='Car Type',\n",
    "        font=dict(size=16),\n",
    "        x=0.5,\n",
    "        xanchor='center',\n",
    "        y=1,\n",
    "        yanchor='top',\n",
    "        bgcolor=\"white\",  # Background color for the legend\n",
    "        bordercolor=\"black\",  # Border color for the legend\n",
    "        borderwidth=2,  # Border width in pixels\n",
    "    )\n",
    ")\n",
    "\n",
    "# Show the plot\n",
    "fig_bar.show()"
   ]
  },
  {
   "cell_type": "code",
   "execution_count": null,
   "metadata": {},
   "outputs": [],
   "source": [
    "# Create a bar chart\n",
    "# Enable the JSON data transformer for large datasets\n",
    "from IPython.display import display\n",
    "alt.data_transformers.enable('json')\n",
    "\n",
    "# Create a bar chart for total sales by car type\n",
    "chart = alt.Chart(total_sales).mark_bar().encode(\n",
    "    x=alt.X('type:O', axis=alt.Axis(labelAngle=45), title='Car Type'),\n",
    "    y=alt.Y('price:Q', title='Total Sales'),\n",
    "    color=alt.Color('type:N', legend=None)\n",
    ").properties(\n",
    "    title='Total Sales by Car Type'\n",
    ")\n",
    "\n",
    "# Save the chart as an HTML file\n",
    "chart.save('chart.html')\n",
    "from IPython.display import IFrame\n",
    "IFrame('chart.html', width=800, height=600)"
   ]
  },
  {
   "cell_type": "markdown",
   "metadata": {},
   "source": [
    "####  This bar graph is sorted by vehicles that sell for the highest amount ( on the left ), to lowest amount ( on the right ).\n",
    "- Although buses sell for a higher average amount, than any other vehicle, there were only 24 buses in this dataset. So the bar is the shortest bar on the graph.\n",
    "- Trucks bring in the most revenue of all vehicles. Their average sale price is \\$16,734.89, and there were 12,353 trucks in the dataset.\n",
    "- The average sale price for hatchbacks is \\$6,869 and there were 1047 hatchbacks in this dataset.\n",
    "- There were 12,405 SUVs in this dataset, which is more than any other vehicle. The average price for SUVs is $11,149.40\n",
    "- Trucks and SUVs bring in the most revenue.                                                                                  "
   ]
  },
  {
   "cell_type": "markdown",
   "metadata": {},
   "source": [
    "### Is there a correlation between number of cylinders and the condition of car?"
   ]
  },
  {
   "cell_type": "code",
   "execution_count": null,
   "metadata": {},
   "outputs": [],
   "source": [
    "# Calculate the average price for each type and sort by it in descending order with observed=True\n",
    "avg_price_by_type = autos.groupby('type', observed=True)['price'].mean().sort_values(ascending=False)\n",
    "# Convert Series to list\n",
    "unique_categories = avg_price_by_type.index.tolist()\n",
    "\n",
    "print(round(avg_price_by_type),2)  # Displays the average price sorted by car type\n",
    "print(unique_categories)  # Displays the car types sorted by average price"
   ]
  },
  {
   "cell_type": "markdown",
   "metadata": {},
   "source": [
    "#### Create Scatter plot"
   ]
  },
  {
   "cell_type": "code",
   "execution_count": null,
   "metadata": {},
   "outputs": [],
   "source": [
    "# Set the order of the 'type' column based on the average price sorting\n",
    "autos['type'] = pd.Categorical(autos['type'], categories=unique_categories, ordered=True)\n",
    "\n",
    "# Ensure the DataFrame is sorted by the type order we created (for consistency)\n",
    "autos_sorted = autos.sort_values(by=['type'])\n",
    "\n",
    "# Define condition order and convert to categorical\n",
    "condition_order = ['salvage', 'fair', 'good', 'excellent', 'like new', 'new']\n",
    "autos['condition'] = pd.Categorical(autos['condition'], categories=condition_order, ordered=True)\n",
    "\n",
    "# Manually set the order of unique cyl values for tick labels\n",
    "cyl_order = [0, 3, 4, 5, 6, 8, 10, 12]"
   ]
  },
  {
   "cell_type": "code",
   "execution_count": null,
   "metadata": {},
   "outputs": [],
   "source": [
    "# Define a custom color palette\n",
    "color_palette = px.colors.qualitative.Plotly\n",
    "\n",
    "# Create scatter plot using Plotly\n",
    "fig_scatter = px.scatter(\n",
    "    autos,\n",
    "    x='condition',\n",
    "    y='cyl',\n",
    "    color='type',\n",
    "    title='Condition of Car vs Number of Cylinders',\n",
    "    labels={'condition': 'Condition', 'cyl': 'Number of Cylinders'},\n",
    "    color_discrete_sequence=color_palette,\n",
    "    hover_name='type',\n",
    "    category_orders={'condition': condition_order}\n",
    ")\n",
    "# Customize layout and set the height of the chart\n",
    "fig_scatter.update_layout(\n",
    "    xaxis_title={'text': 'Condition', 'font': {'size': 18}},\n",
    "    yaxis_title={'text': 'Number of Cylinders', 'font': {'size': 18}},\n",
    "    yaxis=dict(\n",
    "        tickmode='array',\n",
    "        tickvals=cyl_order,\n",
    "        ticktext=[str(val) for val in cyl_order]\n",
    "    ),\n",
    "    title={\n",
    "        'text': 'Number of Cylinders vs Condition of Car, by Type',\n",
    "        'x': 0.5,\n",
    "        'font': {'size': 24}\n",
    "    },\n",
    "    height=800,\n",
    "    \n",
    "    legend=dict(\n",
    "        font=dict(size=16),\n",
    "        title=dict(\n",
    "            font=dict(size=18),\n",
    "            text='    type    '  # Center the legend title text\n",
    "        ),\n",
    "        itemsizing='constant',\n",
    "        x=0.88,\n",
    "        y=1,\n",
    "        bgcolor=\"white\",  # Background color for the legend\n",
    "        bordercolor=\"black\",  # Border color for the legend\n",
    "        borderwidth=2  # Border width in pixels\n",
    "    )\n",
    ")\n",
    "\n",
    "# Update marker size\n",
    "fig_scatter.update_traces(marker=dict(size=15))\n",
    "\n",
    "# Show the plot\n",
    "fig_scatter.show()"
   ]
  },
  {
   "cell_type": "markdown",
   "metadata": {},
   "source": [
    "#### Create Box plot"
   ]
  },
  {
   "cell_type": "code",
   "execution_count": null,
   "metadata": {},
   "outputs": [],
   "source": [
    "#Create box plot, using plotly\n",
    "fig = px.box(autos, x='condition', y='cyl', title='Distribution of Cylinders by Condition')\n",
    "\n",
    "# Customize the layout to change the size of the text and make the plot taller\n",
    "fig.update_layout(\n",
    "    xaxis=dict(\n",
    "        categoryorder='array',\n",
    "        categoryarray=condition_order\n",
    "    ),\n",
    "    title={'text': ' Number of Cylinders vs Condition of Car', 'font': {'size': 24}},\n",
    "    xaxis_title={'text': 'Condition', 'font': {'size': 18}},\n",
    "    yaxis_title={'text': 'Number of Cylinders', 'font': {'size': 18}},\n",
    "    height=800  # Specify the height of the chart in pixels\n",
    ")\n",
    "\n",
    "\n",
    "# Display the plot\n",
    "fig.show()"
   ]
  },
  {
   "cell_type": "markdown",
   "metadata": {},
   "source": [
    "### There is a slight correlation between number of cylinders, and condition of car. \n",
    "<br>\n",
    "- Cars with 12 cyclinders only appear in the 'excellent' category; there are no cars, with 12 cylinders in any other category.\n",
    "<br>\n",
    "<br>\n",
    "- Cars with 10, or 12 cylinders do not appear in the 'salvage' category, which is the lowest value of a car's condition."
   ]
  },
  {
   "cell_type": "code",
   "execution_count": null,
   "metadata": {},
   "outputs": [],
   "source": [
    "# Group by 'cyl' and 'condition', and count the occurrences\n",
    "# Specify observed=False to retain current behavior and silence the warning\n",
    "cyl_condition_counts = autos.groupby(['cyl', 'condition'], observed=False).size().reset_index(name='count')"
   ]
  },
  {
   "cell_type": "code",
   "execution_count": null,
   "metadata": {},
   "outputs": [],
   "source": [
    "# Calculate the total number of autos per cylinder\n",
    "total_per_cyl = autos.groupby('cyl', observed=False).size().reset_index(name='total')"
   ]
  },
  {
   "cell_type": "code",
   "execution_count": null,
   "metadata": {},
   "outputs": [],
   "source": [
    "# Merge the counts with the totals\n",
    "cyl_condition_counts = cyl_condition_counts.merge(total_per_cyl, on='cyl')"
   ]
  },
  {
   "cell_type": "code",
   "execution_count": null,
   "metadata": {},
   "outputs": [],
   "source": [
    "# Calculate the percentage\n",
    "cyl_condition_counts['percentage'] = (cyl_condition_counts['count'] / cyl_condition_counts['total']) * 100\n",
    "# Display the results\n",
    "print(cyl_condition_counts)"
   ]
  },
  {
   "cell_type": "code",
   "execution_count": null,
   "metadata": {},
   "outputs": [],
   "source": [
    "total_cars = len(autos)"
   ]
  },
  {
   "cell_type": "code",
   "execution_count": null,
   "metadata": {},
   "outputs": [],
   "source": [
    "# Count the number of salvage cars\n",
    "salvage_cars = autos['condition'].value_counts().get('salvage', 0)\n",
    "print(salvage_cars)"
   ]
  },
  {
   "cell_type": "code",
   "execution_count": null,
   "metadata": {},
   "outputs": [],
   "source": [
    "# Calculate the percentage of salvage cars\n",
    "percentage_salvage = (salvage_cars / total_cars) * 100"
   ]
  },
  {
   "cell_type": "code",
   "execution_count": null,
   "metadata": {},
   "outputs": [],
   "source": [
    "print(f\"Total number of cars: {total_cars}\")\n",
    "print(f\"Count of salvage cars: {salvage_cars}\")\n",
    "\n",
    "# Print percentage rounded to two decimal places\n",
    "print(f\"Percentage of cars that are in 'salvage' condition: {percentage_salvage:.2f}%\")"
   ]
  },
  {
   "cell_type": "code",
   "execution_count": null,
   "metadata": {},
   "outputs": [],
   "source": [
    "# Count the number of excellent cars\n",
    "excellent_cars = autos['condition'].value_counts().get('excellent', 0)\n",
    "print(excellent_cars)"
   ]
  },
  {
   "cell_type": "code",
   "execution_count": null,
   "metadata": {},
   "outputs": [],
   "source": [
    "# Calculate the percentage of excellent cars\n",
    "percentage_excellent = (excellent_cars / total_cars) * 100"
   ]
  },
  {
   "cell_type": "code",
   "execution_count": null,
   "metadata": {},
   "outputs": [],
   "source": [
    "print(f\"Total number of cars: {total_cars}\")\n",
    "print(f\"Count of excellent cars: {excellent_cars}\")\n",
    "\n",
    "# Print percentage rounded to two decimal places\n",
    "print(f\"Percentage of excellent cars: {percentage_excellent:.2f}%\")"
   ]
  },
  {
   "cell_type": "markdown",
   "metadata": {},
   "source": [
    "### Looking at the output of percentages of cars, relating to each condition type:\n",
    "<br>\n",
    "<b>The percentage of total salvage cars is less than 1%.</b>\n",
    "<br>\n",
    "<br>\n",
    "- There is a disproportionate number of salvage cars that have 4 cylinders, with the salvage condition making up 0.35%. Since the total number of salvage cars is only 0.22%, this is slightly higher than expected.\n",
    "<br>\n",
    "<br>\n",
    "- There is an even higher disproportion of salvage cars that have 3 cylinders...  2.9%. And since the total number of salvage cars is only 0.22%, this is over 10 times higher than expected.\n",
    "<br>\n",
    "<br>\n",
    "<b> The percentage of total excellent cars is 48%.</b>\n",
    "<br>\n",
    "<br>\n",
    "- There is a disproportionate number of excellent cars that have 12 cylinders, with 100% of cars with 12 cylinders falling in the excellent condition category. \n",
    "<br>\n",
    "<br>\n",
    "<b>So, there is some proof to show that the lesser amount of cylinders a car has, the worse condition it is in.</b>\n",
    "<br>\n",
    "<b>And, there is some proof to show that the more cylinders that a car has, the better condition it is in.</b>"
   ]
  },
  {
   "cell_type": "markdown",
   "metadata": {},
   "source": [
    "### Is there a correlation between odometer reading, and days on market?"
   ]
  },
  {
   "cell_type": "markdown",
   "metadata": {},
   "source": [
    "#### Create Histogram"
   ]
  },
  {
   "cell_type": "code",
   "execution_count": null,
   "metadata": {},
   "outputs": [],
   "source": [
    "# Create a 2D histogram object for odometer vs DOM\n",
    "fig = go.Figure(\n",
    "    data=go.Histogram2d(\n",
    "        x=autos['odometer'], \n",
    "        y=autos['DOM'], \n",
    "        colorscale='Blues'\n",
    "    )\n",
    ")\n",
    "\n",
    "# Customize layout and add labels\n",
    "fig.update_layout(\n",
    "    title={'text': 'Histogram of Odometer vs Days on Market (DOM)', 'x': 0.5, 'font': {'size': 24}},\n",
    "    xaxis=dict(\n",
    "        title='Odometer (miles)',\n",
    "        titlefont=dict(size=20),  # Set x-axis title font size\n",
    "        range=[0, 200000] \n",
    "    ),\n",
    "    yaxis=dict(\n",
    "        title='Days on Market (DOM)',\n",
    "        titlefont=dict(size=20)  # Set y-axis title font size\n",
    "    ),\n",
    "    height=800\n",
    ")\n",
    "\n",
    "#Show the histogram\n",
    "fig.show()\n",
    "    \n",
    "    "
   ]
  },
  {
   "cell_type": "code",
   "execution_count": null,
   "metadata": {},
   "outputs": [],
   "source": [
    "autos.DOM.describe()"
   ]
  },
  {
   "cell_type": "markdown",
   "metadata": {},
   "source": [
    "### What are the average prices, by color?"
   ]
  },
  {
   "cell_type": "code",
   "execution_count": null,
   "metadata": {},
   "outputs": [],
   "source": [
    "# calculate the average price and round to 2 decimal places\n",
    "avg_price_by_color = autos.groupby('color', observed=False)['price'].mean().round(2).reset_index()\n",
    "\n",
    "# Print the aggregated data to verify the average values\n",
    "print(avg_price_by_color)"
   ]
  },
  {
   "cell_type": "code",
   "execution_count": null,
   "metadata": {},
   "outputs": [],
   "source": [
    "# Define a direct color mapping for each category\n",
    "color_mapping = {\n",
    "    'white': 'white',\n",
    "    'unknown': 'pink',\n",
    "    'black': 'black',\n",
    "    'silver': 'silver',\n",
    "    'grey': 'grey',\n",
    "    'blue': 'blue',\n",
    "    'red': 'red',\n",
    "    'green': 'green',\n",
    "    'brown': 'brown',\n",
    "    'custom': 'limegreen',\n",
    "    'yellow': 'yellow',\n",
    "    'orange': 'orange',\n",
    "    'purple': 'purple'\n",
    "}\n",
    "fig_bar = px.bar(\n",
    "    avg_price_by_color, \n",
    "    x='color', \n",
    "    y='price', \n",
    "    title='Average Price by Color',\n",
    "    color='color', \n",
    "    color_discrete_map=color_mapping\n",
    ")\n",
    "\n",
    "# Convert from px.bar to go.Figure to add customizations\n",
    "fig = go.Figure(fig_bar)\n",
    "\n",
    "# Update each bar trace to add a black border\n",
    "for trace in fig.data:\n",
    "    trace.update(marker_line_color='black', marker_line_width=1.5)\n",
    "    \n",
    "# Find the max average price value for y-axis settings\n",
    "max_price = avg_price_by_color['price'].max()\n",
    "\n",
    "# Customize the layout\n",
    "fig.update_layout(\n",
    "    title={'text': 'Average Prices by Color', 'x': 0.5, 'font': {'size': 24}},\n",
    "    xaxis=dict(\n",
    "        title='Color',\n",
    "        titlefont=dict(size=18)  # Set x-axis title font size\n",
    "    ),\n",
    "    yaxis=dict(\n",
    "        title='Average Price',\n",
    "        titlefont=dict(size=18),  # Set y-axis title font size\n",
    "        tickvals=[i for i in range(0, int(max_price) + 5000, 5000)],  # Adjust ticks as needed\n",
    "        range=[0, int(max_price) + 1000]  # Adjust range as needed\n",
    "    ),\n",
    "    height=800\n",
    ")\n",
    "\n",
    "# Show the bar plot\n",
    "fig.show()"
   ]
  },
  {
   "cell_type": "markdown",
   "metadata": {},
   "source": [
    "#### Yellow and orange cars sell for the highest price. Purple and green cars sell for the lowest price, with purple selling for less than half the price of yellow and orange cars."
   ]
  },
  {
   "cell_type": "markdown",
   "metadata": {},
   "source": [
    "### What are average car prices, by year?"
   ]
  },
  {
   "cell_type": "code",
   "execution_count": null,
   "metadata": {
    "scrolled": true
   },
   "outputs": [],
   "source": [
    "autos.describe()"
   ]
  },
  {
   "cell_type": "markdown",
   "metadata": {},
   "source": [
    "#### Average car price is \\$34,595."
   ]
  },
  {
   "cell_type": "code",
   "execution_count": null,
   "metadata": {},
   "outputs": [],
   "source": [
    "autos['year'].max()"
   ]
  },
  {
   "cell_type": "code",
   "execution_count": null,
   "metadata": {
    "scrolled": true
   },
   "outputs": [],
   "source": [
    "#Group by 'year' and calculate average price\n",
    "avg_price_by_year = autos.groupby('year')['price'].mean().reset_index()\n",
    "\n",
    "# Create a bar chart with a color sequence\n",
    "fig = px.bar(\n",
    "    avg_price_by_year,\n",
    "    x='year',\n",
    "    y='price',\n",
    "    title='Average Car Prices, Since 1960',\n",
    "    labels={'year': 'Year', 'price': 'Average Price ($)'},\n",
    "    color='year',  # Use year for coloring (if necessary)\n",
    "    color_continuous_scale=px.colors.sequential.Viridis  # Example color scale\n",
    ")\n",
    "\n",
    "# Define the range and tick marks\n",
    "start_year = 1960\n",
    "end_year = 2019\n",
    "tick_vals = list(range(start_year, end_year + 1, 5))  # Generate a list from 1960 to 2019 with a step of 5\n",
    "tick_texts = [str(year) for year in tick_vals]  # Create tick labels as strings\n",
    "# Update layout\n",
    "fig.update_layout(\n",
    "    xaxis=dict(\n",
    "        title='Year',\n",
    "        titlefont=dict(size=18),\n",
    "        range=[start_year, end_year],  # x-axis range\n",
    "        tickvals=tick_vals,  # Sets the locations of ticks\n",
    "        ticktext=tick_texts  # Sets the labels of the ticks\n",
    "    ),\n",
    "    yaxis=dict(title='Average Price ($)', titlefont=dict(size=18)),\n",
    "    title={'x': 0.5, 'font': {'size': 24}},\n",
    "    height=600\n",
    ")\n",
    "\n",
    "# Show the bar chart\n",
    "fig.show()"
   ]
  },
  {
   "cell_type": "code",
   "execution_count": null,
   "metadata": {},
   "outputs": [],
   "source": [
    "avg_price_by_year.min()"
   ]
  },
  {
   "cell_type": "markdown",
   "metadata": {},
   "source": [
    "<h2 style=\"color:red;\">Conclusion</h2>"
   ]
  },
  {
   "cell_type": "markdown",
   "metadata": {},
   "source": [
    "## This dataset represented auto sales, for the years 1908-2019. I studied these aspects of the data:\n",
    "<br>\n",
    "<br>\n",
    "- price\t\n",
    "<br>\n",
    "- year\t\n",
    "<br>\t\n",
    "- condition of car\n",
    "<br>\n",
    "- number of cylinders\t\n",
    "<br>\t\n",
    "- odometer reading\n",
    "<br>\t\n",
    "- type of car  \n",
    "<br>\n",
    "- color\t\n",
    "<br>\t\t\n",
    "- days on market\n",
    "<br>\n",
    "<br>\n",
    "<h2>Here are the answers to the questions that I seeked to find:</h2>\n",
    "<br>\n",
    "<br>\n",
    " \n",
    "<b>What are average car sales prices for each car type?</b>\n",
    "<br>\n",
    "- The highest price on vehicles, in this dataset, results from bus sales, with the average sale price of busses be \\$17,136.\n",
    "- Trucks sell for the second highest price, at an average of \\$14,821\n",
    "<br>\n",
    "<br>\n",
    "\n",
    "<b>What are overall total sales for each car type?</b>\n",
    "<br>\n",
    "<br>\n",
    "           SUV &nbsp;&nbsp;&nbsp;   \\$125,396,205\n",
    "<br>\n",
    "           bus &nbsp;&nbsp;&nbsp;      \\$411,256\n",
    "<br>\n",
    "   convertible &nbsp;&nbsp;&nbsp;     \\$5,292,414\n",
    "<br>\n",
    "         coupe &nbsp;&nbsp;&nbsp;    \\$29,536,818\n",
    "<br>\n",
    "     hatchback &nbsp;&nbsp;&nbsp;     \\$7,156,335\n",
    "<br>\n",
    "      mini-van &nbsp;&nbsp;&nbsp;     \\$9,261,424\n",
    "<br>\n",
    "       offroad &nbsp;&nbsp;&nbsp;     \\$2,714,601\n",
    "<br>\n",
    "         other &nbsp;&nbsp;&nbsp;     \\$2,647,813\n",
    "<br>\n",
    "        pickup &nbsp;&nbsp;&nbsp;    \\$96,745,712\n",
    "<br>\n",
    "         sedan &nbsp;&nbsp;&nbsp;    \\$84,328,720\n",
    "<br>\n",
    "        truck &nbsp;&nbsp;&nbsp;   \\$171,180,709\n",
    "<br>\n",
    "          van &nbsp;&nbsp;&nbsp;     \\$5,167,314\n",
    "<br>\n",
    "        wagon &nbsp;&nbsp;&nbsp;    \\$13,596,040\n",
    "<br>\n",
    "<br>\n",
    "\n",
    "- SUVs and Trucks have generated the highest amount in total sales.\n",
    "<br>\n",
    "<br>\n",
    "\n",
    "<b>Is there a correlation between number of cylinders and the condition of car?</b>\n",
    "<br>\n",
    "- Cars with 12 cyclinders only appear in the 'excellent' category; there are no cars, with 12 cylinders in any other category. \n",
    "- Cars with 10, or 12 cylinders do not appear in the 'salvage' category, which is the lowest value of a car's condition.\n",
    "<br>\n",
    "<br>\n",
    "    \n",
    "<b>Is there a correlation between odometer reading, and days on market?</b>\n",
    "<br>\n",
    "<br>\n",
    "- The lower the odometer reading, the quicker the car sells. \n",
    "- The majority of the cars that sold had an odometer reading of 110,000-120,000  miles, and were on the market 15-19 days.\n",
    "<br>\n",
    "<br>\n",
    "    \n",
    "<b>What are the average prices, by color?</b>\n",
    "<br>\n",
    "- Yellow cars sold for the highest average prices, with orange coming in second place. \n",
    "- Purple cars sold for the lowest average prices.\n",
    "<br>\n",
    "<br>\n",
    "           yellow &nbsp;&nbsp;&nbsp;   \\$14,964 \n",
    "<br>\n",
    "           orange &nbsp;&nbsp;&nbsp;   \\$13,603 \n",
    "<br>\n",
    "           purple &nbsp;&nbsp;&nbsp;   \\$6,518\n",
    "<br>\n",
    "<br>\n",
    "           black &nbsp;&nbsp;&nbsp;   \\$12,310\n",
    "<br>\n",
    "           blue &nbsp;&nbsp;&nbsp;   \\$9,617\n",
    "<br>\n",
    "           brown &nbsp;&nbsp;&nbsp;   \\$9,668\n",
    "<br> \n",
    "           custom &nbsp;&nbsp;&nbsp;   \\$9,588\n",
    "<br>\n",
    "           green &nbsp;&nbsp;&nbsp;   \\$8,178 \n",
    "<br>\n",
    "           grey &nbsp;&nbsp;&nbsp;   \\$10,446\n",
    "<br>\n",
    "           red &nbsp;&nbsp;&nbsp;   \\$10,597 \n",
    "<br> \n",
    "           silver &nbsp;&nbsp;&nbsp;   \\$10,069\n",
    "<br> \n",
    "           unknown &nbsp;&nbsp;&nbsp;   \\$11,215\n",
    "<br>\n",
    "           white &nbsp;&nbsp;&nbsp;   \\$12,621  \n",
    "<br>\n",
    "\n",
    "\n",
    "<br>\n",
    "<br>\n",
    "\n",
    "<b>What are average car prices, by year?</b>\n",
    "<br>\n",
    "<br>\n",
    "- The newest cars in this dataset are year 2019. \n",
    "- The average 2019 prices are about the same as the average sales price of 1965 cars. \n",
    "- The oldest year in this dataset is 1908, with that year having the lowest average price, at \\$4,343. \n",
    "- Cars from the years 1962-1973 sell for higher amounts, on average, than 1974-2014 year cars. \n",
    "- There is a slope, going up, on average car prices from 1992-2017. \n",
    "- 1961 cars sales prices averaged incredibly low, at \\$5,500, oddly flanked by 1960, and 1962 years, that each brought in average sales prices over three times higher of that of 1961 cars.\n",
    "<br>\n",
    "<br>\n",
    "<h2>A very interesting note about this dataset is that, although buses sell for the highest average price, than any other vehicle, there were only 24 buses in this dataset, so buses brought in the lowest amount of total sales.</h2>\n"
   ]
  },
  {
   "cell_type": "code",
   "execution_count": null,
   "metadata": {},
   "outputs": [],
   "source": [
    "autos.to_csv('autos_data.csv', index=False)"
   ]
  }
 ],
 "metadata": {
  "kernelspec": {
   "display_name": "Python 3 (ipykernel)",
   "language": "python",
   "name": "python3"
  },
  "language_info": {
   "codemirror_mode": {
    "name": "ipython",
    "version": 3
   },
   "file_extension": ".py",
   "mimetype": "text/x-python",
   "name": "python",
   "nbconvert_exporter": "python",
   "pygments_lexer": "ipython3",
   "version": "3.11.7"
  }
 },
 "nbformat": 4,
 "nbformat_minor": 4
}
